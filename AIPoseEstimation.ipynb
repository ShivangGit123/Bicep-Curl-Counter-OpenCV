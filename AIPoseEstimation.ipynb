{
 "cells": [
  {
   "cell_type": "code",
   "execution_count": 1,
   "id": "381b3679-75e6-4673-8e9a-29c9aa6efa9b",
   "metadata": {},
   "outputs": [],
   "source": [
    "# !pip install mediapipe"
   ]
  },
  {
   "cell_type": "code",
   "execution_count": 2,
   "id": "a88a46d5-e548-44bf-9ffd-fd7f32865cf6",
   "metadata": {},
   "outputs": [],
   "source": [
    "#!pip install pandas"
   ]
  },
  {
   "cell_type": "code",
   "execution_count": 3,
   "id": "f4a95465-a411-485f-aa23-6a6b8858772e",
   "metadata": {},
   "outputs": [],
   "source": [
    "import pandas as pd\n",
    "import numpy as np\n",
    "import cv2\n",
    "import mediapipe as mp\n",
    "import matplotlib.pyplot as plt"
   ]
  },
  {
   "cell_type": "code",
   "execution_count": 4,
   "id": "0c5eaefc-19de-4eae-87ad-7195a98b0ffb",
   "metadata": {},
   "outputs": [],
   "source": [
    "mp_pose = mp.solutions.pose\n",
    "mp_drawing = mp.solutions.drawing_utils"
   ]
  },
  {
   "cell_type": "code",
   "execution_count": 5,
   "id": "90f87118-55e5-4fc1-b7ab-2b70627b1537",
   "metadata": {},
   "outputs": [],
   "source": [
    "cam = cv2.VideoCapture(0)\n",
    "while True:\n",
    "    ret, frame = cam.read()\n",
    "    if not ret:\n",
    "        print(\"Unable to Capture Frame\")\n",
    "        break\n",
    "    frame = cv2.flip(frame ,1)    \n",
    "    cv2.imshow(\"frame\", frame)\n",
    "    if cv2.waitKey(10) & 0xFF == ord('q'):\n",
    "        break \n",
    "cam.release()\n",
    "cv2.destroyAllWindows()"
   ]
  },
  {
   "cell_type": "code",
   "execution_count": 6,
   "id": "09d0240c-45fd-4850-b832-a012f6502d52",
   "metadata": {
    "scrolled": true
   },
   "outputs": [],
   "source": [
    "cam = cv2.VideoCapture(0)\n",
    "with mp_pose.Pose(min_detection_confidence = 0.5 , min_tracking_confidence = 0.5) as pose:\n",
    "    while cam.isOpened():\n",
    "        ret, frame = cam.read()\n",
    "    \n",
    "        image = cv2.cvtColor(frame , cv2.COLOR_BGR2RGB)\n",
    "        image.flags.writeable = False             #Read Only Image\n",
    "        \n",
    "        results = pose.process(image)    \n",
    "        try:\n",
    "            landmarks = results.pose_landmarks.landmark\n",
    "        except:\n",
    "            pass\n",
    "        \n",
    "        image.flags.writeable = True\n",
    "        image = cv2.cvtColor(image , cv2.COLOR_RGB2BGR)\n",
    "\n",
    "        mp_drawing.draw_landmarks(image , results.pose_landmarks , mp_pose.POSE_CONNECTIONS,\n",
    "                                 )\n",
    "        \n",
    "        image = cv2.flip(image ,1)    \n",
    "        cv2.imshow(\"frame\", image)\n",
    "        if cv2.waitKey(10) & 0xFF == ord('q'):\n",
    "            break \n",
    "cam.release()\n",
    "cv2.destroyAllWindows()"
   ]
  },
  {
   "cell_type": "code",
   "execution_count": 7,
   "id": "416c7994-cc24-4d5a-be02-218b673e03a0",
   "metadata": {},
   "outputs": [],
   "source": [
    "# 0 - nose\n",
    "# 1 - left eye (inner)\n",
    "# 2 - left eye\n",
    "# 3 - left eye (outer)\n",
    "# 4 - right eye (inner)\n",
    "# 5 - right eye\n",
    "# 6 - right eye (outer)\n",
    "# 7 - left ear\n",
    "# 8 - right ear\n",
    "# 9 - mouth (left)\n",
    "# 10 - mouth (right)\n",
    "# 11 - left shoulder\n",
    "# 12 - right shoulder\n",
    "# 13 - left elbow\n",
    "# 14 - right elbow\n",
    "# 15 - left wrist\n",
    "# 16 - right wrist\n",
    "# 17 - left pinky\n",
    "# 18 - right pinky\n",
    "# 19 - left index\n",
    "# 20 - right index\n",
    "# 21 - left thumb\n",
    "# 22 - right thumb\n",
    "# 23 - left hip\n",
    "# 24 - right hip\n",
    "# 25 - left knee\n",
    "# 26 - right knee\n",
    "# 27 - left ankle\n",
    "# 28 - right ankle\n",
    "# 29 - left heel\n",
    "# 30 - right heel\n",
    "# 31 - left foot index\n",
    "# # 32 - right foot index "
   ]
  },
  {
   "cell_type": "markdown",
   "id": "e5abc18e-ed72-4a5a-9257-69c4084d623e",
   "metadata": {},
   "source": [
    "**Calclate Angle**"
   ]
  },
  {
   "cell_type": "code",
   "execution_count": 8,
   "id": "b5d5bc52-4c34-47fe-a570-e523c03f3076",
   "metadata": {},
   "outputs": [],
   "source": [
    "def angle(a , b , c):\n",
    "    a = np.array(a)\n",
    "    b = np.array(b)\n",
    "    c = np.array(c)\n",
    "\n",
    "    radian1 = np.arctan2(c[1]-b[1] ,c[0]-b[0])   #y,x of cb\n",
    "    radian2 = np.arctan2(a[1]-b[1], a[0]-b[0])\n",
    "    radian = radian1-radian2\n",
    "    angle = np.abs(radian*180/np.pi)\n",
    "\n",
    "    if angle>180:\n",
    "        angle = 360-angle\n",
    "    return angle"
   ]
  },
  {
   "cell_type": "code",
   "execution_count": 9,
   "id": "ac8026a0-a75d-4278-8147-ac9d720fec88",
   "metadata": {},
   "outputs": [],
   "source": [
    "# angle(shoulder , elbow , wrist)"
   ]
  },
  {
   "cell_type": "code",
   "execution_count": 10,
   "id": "13cd43af-b913-4523-8b28-4d4d426df784",
   "metadata": {},
   "outputs": [],
   "source": [
    "cam = cv2.VideoCapture(0)\n",
    "with mp_pose.Pose(min_detection_confidence = 0.5 , min_tracking_confidence = 0.5) as pose:\n",
    "    while cam.isOpened():\n",
    "        ret, frame = cam.read()\n",
    "    \n",
    "        image = cv2.cvtColor(frame , cv2.COLOR_BGR2RGB)\n",
    "        image.flags.writeable = False             #Read Only Image\n",
    "        \n",
    "        results = pose.process(image)    \n",
    "        try:\n",
    "            landmarks = results.pose_landmarks.landmark\n",
    "\n",
    "            shoulder = [landmarks[mp_pose.PoseLandmark.LEFT_SHOULDER.value].x,landmarks[mp_pose.PoseLandmark.LEFT_SHOULDER.value].y]\n",
    "            elbow = [landmarks[mp_pose.PoseLandmark.LEFT_ELBOW.value].x,landmarks[mp_pose.PoseLandmark.LEFT_ELBOW.value].y]\n",
    "            wrist = [landmarks[mp_pose.PoseLandmark.LEFT_WRIST.value].x,landmarks[mp_pose.PoseLandmark.LEFT_WRIST.value].y]\n",
    "\n",
    "            angle_value = angle(shoulder, elbow, wrist)\n",
    "            image.flags.writeable = True\n",
    "            cv2.putText(image, str(angle_value), \n",
    "                           tuple(np.multiply(elbow, [640, 480]).astype(int)), \n",
    "                           cv2.FONT_HERSHEY_SIMPLEX, 0.5, (255, 255, 255), 2, cv2.LINE_AA\n",
    "                                )\n",
    "        except:\n",
    "            pass\n",
    "        \n",
    "   \n",
    "        image = cv2.cvtColor(image , cv2.COLOR_RGB2BGR)\n",
    "\n",
    "        mp_drawing.draw_landmarks(image, results.pose_landmarks, mp_pose.POSE_CONNECTIONS,\n",
    "                                mp_drawing.DrawingSpec(color=(245,117,66), thickness=2, circle_radius=2), \n",
    "                                mp_drawing.DrawingSpec(color=(245,66,230), thickness=2, circle_radius=2) \n",
    "                                 )\n",
    "        \n",
    "        image = cv2.flip(image ,1)    \n",
    "        cv2.imshow(\"frame\", image)\n",
    "        if cv2.waitKey(10) & 0xFF == ord('q'):\n",
    "            break \n",
    "cam.release()\n",
    "cv2.destroyAllWindows()"
   ]
  },
  {
   "cell_type": "code",
   "execution_count": 11,
   "id": "dfd114c8-3496-4897-b9cb-f69b52acc2ca",
   "metadata": {},
   "outputs": [],
   "source": [
    "shoulder = [landmarks[mp_pose.PoseLandmark.LEFT_SHOULDER.value].x,landmarks[mp_pose.PoseLandmark.LEFT_SHOULDER.value].y]\n",
    "elbow = [landmarks[mp_pose.PoseLandmark.LEFT_ELBOW.value].x,landmarks[mp_pose.PoseLandmark.LEFT_ELBOW.value].y]\n",
    "wrist = [landmarks[mp_pose.PoseLandmark.LEFT_WRIST.value].x,landmarks[mp_pose.PoseLandmark.LEFT_WRIST.value].y]"
   ]
  },
  {
   "cell_type": "code",
   "execution_count": 12,
   "id": "dd33ef73-2c17-4a74-990c-eb36e41ffb62",
   "metadata": {},
   "outputs": [
    {
     "data": {
      "text/plain": [
       "\u001b[31mDocstring:\u001b[39m\n",
       "putText(img, text, org, fontFace, fontScale, color[, thickness[, lineType[, bottomLeftOrigin]]]) -> img\n",
       ".   @brief Draws a text string.\n",
       ".   \n",
       ".   The function cv::putText renders the specified text string in the image. Symbols that cannot be rendered\n",
       ".   using the specified font are replaced by question marks. See #getTextSize for a text rendering code\n",
       ".   example.\n",
       ".   \n",
       ".   @param img Image.\n",
       ".   @param text Text string to be drawn.\n",
       ".   @param org Bottom-left corner of the text string in the image.\n",
       ".   @param fontFace Font type, see #HersheyFonts.\n",
       ".   @param fontScale Font scale factor that is multiplied by the font-specific base size.\n",
       ".   @param color Text color.\n",
       ".   @param thickness Thickness of the lines used to draw a text.\n",
       ".   @param lineType Line type. See #LineTypes\n",
       ".   @param bottomLeftOrigin When true, the image data origin is at the bottom-left corner. Otherwise,\n",
       ".   it is at the top-left corner.\n",
       "\u001b[31mType:\u001b[39m      builtin_function_or_method"
      ]
     },
     "metadata": {},
     "output_type": "display_data"
    }
   ],
   "source": [
    "cv2.putText??"
   ]
  },
  {
   "cell_type": "code",
   "execution_count": 13,
   "id": "5411eb47-01b0-409c-abf2-5c42b7c55272",
   "metadata": {},
   "outputs": [
    {
     "name": "stdout",
     "output_type": "stream",
     "text": [
      "480\n",
      "640\n"
     ]
    }
   ],
   "source": [
    "height , width , _ = image.shape\n",
    "print(height)\n",
    "print(width)"
   ]
  },
  {
   "cell_type": "code",
   "execution_count": 21,
   "id": "bf56b53d-c73d-4bf9-8cbe-882bb94610d9",
   "metadata": {},
   "outputs": [
    {
     "name": "stdout",
     "output_type": "stream",
     "text": [
      "1\n",
      "2\n",
      "3\n",
      "4\n",
      "5\n"
     ]
    }
   ],
   "source": [
    "import cv2\n",
    "import numpy as np\n",
    "import mediapipe as mp\n",
    "\n",
    "mp_drawing = mp.solutions.drawing_utils\n",
    "mp_pose = mp.solutions.pose\n",
    "\n",
    "def angle(a, b, c):\n",
    "    a = np.array(a)\n",
    "    b = np.array(b)\n",
    "    c = np.array(c)\n",
    "    \n",
    "    radians = np.arctan2(c[1]-b[1], c[0]-b[0]) - np.arctan2(a[1]-b[1], a[0]-b[0])\n",
    "    angle_val = np.abs(radians*180.0/np.pi)\n",
    "    if angle_val > 180.0:\n",
    "        angle_val = 360 - angle_val\n",
    "    return int(angle_val)\n",
    "\n",
    "cam = cv2.VideoCapture(0)\n",
    "counter = 0\n",
    "stage = None\n",
    "\n",
    "with mp_pose.Pose(min_detection_confidence=0.5, min_tracking_confidence=0.5) as pose:\n",
    "    while cam.isOpened():\n",
    "        ret, frame = cam.read()\n",
    "        if not ret:\n",
    "            print(\"Failed to load the Cam\")\n",
    "            break\n",
    "\n",
    "        # Flip first so landmarks match what user sees\n",
    "        frame = cv2.flip(frame, 1)\n",
    "\n",
    "        # Convert to RGB for mediapipe\n",
    "        image = cv2.cvtColor(frame, cv2.COLOR_BGR2RGB)\n",
    "        image.flags.writeable = False\n",
    "        results = pose.process(image)\n",
    "\n",
    "        image.flags.writeable = True\n",
    "        image = cv2.cvtColor(image, cv2.COLOR_RGB2BGR)\n",
    "\n",
    "        try:\n",
    "            landmarks = results.pose_landmarks.landmark\n",
    "            shoulder = [landmarks[mp_pose.PoseLandmark.LEFT_SHOULDER.value].x,\n",
    "                        landmarks[mp_pose.PoseLandmark.LEFT_SHOULDER.value].y]\n",
    "            elbow = [landmarks[mp_pose.PoseLandmark.LEFT_ELBOW.value].x,\n",
    "                     landmarks[mp_pose.PoseLandmark.LEFT_ELBOW.value].y]\n",
    "            wrist = [landmarks[mp_pose.PoseLandmark.LEFT_WRIST.value].x,\n",
    "                     landmarks[mp_pose.PoseLandmark.LEFT_WRIST.value].y]\n",
    "\n",
    "            angle_value = angle(shoulder, elbow, wrist)\n",
    "\n",
    "            cv2.putText(frame, str(angle_value),\n",
    "                        tuple(np.multiply(elbow, [640, 480]).astype(int)),\n",
    "                        cv2.FONT_HERSHEY_SIMPLEX, 0.5, (255, 255, 255), 2, cv2.LINE_AA)\n",
    "\n",
    "            if angle_value > 160:\n",
    "                stage = \"Down\"\n",
    "            if angle_value < 30 and stage == \"Down\":\n",
    "                stage = \"Up\"\n",
    "                counter += 1\n",
    "                print(counter)\n",
    "\n",
    "        except:\n",
    "            pass\n",
    "\n",
    "        # UI panel\n",
    "        cv2.rectangle(frame, (0, 0), (225, 73), (245, 117, 16), -1)\n",
    "        cv2.putText(frame, 'REPS', (15, 12),\n",
    "                    cv2.FONT_HERSHEY_SIMPLEX, 0.5, (0, 0, 0), 1, cv2.LINE_AA)\n",
    "        cv2.putText(frame, str(counter), (10, 60),\n",
    "                    cv2.FONT_HERSHEY_SIMPLEX, 2, (255, 255, 255), 2, cv2.LINE_AA)\n",
    "        cv2.putText(frame, 'STAGE', (65, 12),\n",
    "                    cv2.FONT_HERSHEY_SIMPLEX, 0.5, (0, 0, 0), 1, cv2.LINE_AA)\n",
    "        cv2.putText(frame, stage if stage else \"\",\n",
    "                    (60, 60), cv2.FONT_HERSHEY_SIMPLEX, 2, (255, 255, 255), 2, cv2.LINE_AA)\n",
    "\n",
    "        # Draw pose\n",
    "        mp_drawing.draw_landmarks(frame, results.pose_landmarks, mp_pose.POSE_CONNECTIONS,\n",
    "                                  mp_drawing.DrawingSpec(color=(245, 117, 66), thickness=2, circle_radius=2),\n",
    "                                  mp_drawing.DrawingSpec(color=(245, 66, 230), thickness=2, circle_radius=2))\n",
    "\n",
    "        cv2.imshow(\"frame\", frame)\n",
    "\n",
    "        if cv2.waitKey(1) & 0xFF == ord('q'):\n",
    "            break\n",
    "\n",
    "cam.release()\n",
    "cv2.destroyAllWindows()\n"
   ]
  },
  {
   "cell_type": "code",
   "execution_count": 15,
   "id": "1e304f72-aa5a-469b-bb09-d3ee40190d73",
   "metadata": {},
   "outputs": [
    {
     "data": {
      "text/plain": [
       "63"
      ]
     },
     "execution_count": 15,
     "metadata": {},
     "output_type": "execute_result"
    }
   ],
   "source": [
    "angle_value"
   ]
  },
  {
   "cell_type": "code",
   "execution_count": null,
   "id": "4120aa97-8ae1-4d6c-8a4d-273242cd43dd",
   "metadata": {},
   "outputs": [],
   "source": []
  },
  {
   "cell_type": "code",
   "execution_count": null,
   "id": "ae0d88a5-07f7-452d-ae34-62f22a035c40",
   "metadata": {},
   "outputs": [],
   "source": []
  },
  {
   "cell_type": "code",
   "execution_count": null,
   "id": "256772fb-50ab-4f5f-832f-2c230b22bed1",
   "metadata": {},
   "outputs": [],
   "source": []
  }
 ],
 "metadata": {
  "kernelspec": {
   "display_name": "Python 3 (ipykernel)",
   "language": "python",
   "name": "python3"
  },
  "language_info": {
   "codemirror_mode": {
    "name": "ipython",
    "version": 3
   },
   "file_extension": ".py",
   "mimetype": "text/x-python",
   "name": "python",
   "nbconvert_exporter": "python",
   "pygments_lexer": "ipython3",
   "version": "3.12.1"
  }
 },
 "nbformat": 4,
 "nbformat_minor": 5
}
